{
 "cells": [
  {
   "cell_type": "markdown",
   "id": "c87a404d",
   "metadata": {},
   "source": [
    "# Part 1 - Data Acquisition / Pre-processing"
   ]
  },
  {
   "cell_type": "code",
   "execution_count": 1,
   "id": "ff9915d4",
   "metadata": {},
   "outputs": [],
   "source": [
    "#Before starting, please install this pacakge for keras\n",
    "#Only for Google Colab\n",
    "#!pip install keras "
   ]
  },
  {
   "cell_type": "code",
   "execution_count": 2,
   "id": "7ac7504d",
   "metadata": {},
   "outputs": [
    {
     "data": {
      "text/html": [
       "<div>\n",
       "<style scoped>\n",
       "    .dataframe tbody tr th:only-of-type {\n",
       "        vertical-align: middle;\n",
       "    }\n",
       "\n",
       "    .dataframe tbody tr th {\n",
       "        vertical-align: top;\n",
       "    }\n",
       "\n",
       "    .dataframe thead th {\n",
       "        text-align: right;\n",
       "    }\n",
       "</style>\n",
       "<table border=\"1\" class=\"dataframe\">\n",
       "  <thead>\n",
       "    <tr style=\"text-align: right;\">\n",
       "      <th></th>\n",
       "      <th>Timestamp</th>\n",
       "      <th>Choose your gender</th>\n",
       "      <th>Age</th>\n",
       "      <th>What is your course?</th>\n",
       "      <th>Your current year of Study</th>\n",
       "      <th>What is your CGPA?</th>\n",
       "      <th>Marital status</th>\n",
       "      <th>Do you have Anxiety?</th>\n",
       "      <th>Do you have Panic attack?</th>\n",
       "      <th>Do you have Depression?</th>\n",
       "    </tr>\n",
       "  </thead>\n",
       "  <tbody>\n",
       "    <tr>\n",
       "      <th>0</th>\n",
       "      <td>8/7/2020 12:04</td>\n",
       "      <td>Male</td>\n",
       "      <td>21.0</td>\n",
       "      <td>Islamic education</td>\n",
       "      <td>year 2</td>\n",
       "      <td>0 - 1.99</td>\n",
       "      <td>No</td>\n",
       "      <td>Yes</td>\n",
       "      <td>No</td>\n",
       "      <td>No</td>\n",
       "    </tr>\n",
       "    <tr>\n",
       "      <th>1</th>\n",
       "      <td>8/7/2020 12:05</td>\n",
       "      <td>Male</td>\n",
       "      <td>21.0</td>\n",
       "      <td>BIT</td>\n",
       "      <td>Year 1</td>\n",
       "      <td>3.50 - 4.00</td>\n",
       "      <td>No</td>\n",
       "      <td>Yes</td>\n",
       "      <td>Yes</td>\n",
       "      <td>Yes</td>\n",
       "    </tr>\n",
       "    <tr>\n",
       "      <th>2</th>\n",
       "      <td>8/7/2020 12:13</td>\n",
       "      <td>Male</td>\n",
       "      <td>23.0</td>\n",
       "      <td>Mathemathics</td>\n",
       "      <td>year 4</td>\n",
       "      <td>3.00 - 3.49</td>\n",
       "      <td>No</td>\n",
       "      <td>No</td>\n",
       "      <td>No</td>\n",
       "      <td>No</td>\n",
       "    </tr>\n",
       "    <tr>\n",
       "      <th>3</th>\n",
       "      <td>8/7/2020 12:31</td>\n",
       "      <td>Male</td>\n",
       "      <td>19.0</td>\n",
       "      <td>Engineering</td>\n",
       "      <td>Year 2</td>\n",
       "      <td>0 - 1.99</td>\n",
       "      <td>No</td>\n",
       "      <td>No</td>\n",
       "      <td>Yes</td>\n",
       "      <td>No</td>\n",
       "    </tr>\n",
       "    <tr>\n",
       "      <th>4</th>\n",
       "      <td>8/7/2020 12:32</td>\n",
       "      <td>Female</td>\n",
       "      <td>23.0</td>\n",
       "      <td>Pendidikan islam</td>\n",
       "      <td>year 2</td>\n",
       "      <td>3.50 - 4.00</td>\n",
       "      <td>Yes</td>\n",
       "      <td>No</td>\n",
       "      <td>Yes</td>\n",
       "      <td>Yes</td>\n",
       "    </tr>\n",
       "  </tbody>\n",
       "</table>\n",
       "</div>"
      ],
      "text/plain": [
       "        Timestamp Choose your gender   Age What is your course?  \\\n",
       "0  8/7/2020 12:04               Male  21.0    Islamic education   \n",
       "1  8/7/2020 12:05               Male  21.0                  BIT   \n",
       "2  8/7/2020 12:13               Male  23.0         Mathemathics   \n",
       "3  8/7/2020 12:31               Male  19.0          Engineering   \n",
       "4  8/7/2020 12:32             Female  23.0     Pendidikan islam   \n",
       "\n",
       "  Your current year of Study What is your CGPA? Marital status  \\\n",
       "0                     year 2           0 - 1.99             No   \n",
       "1                     Year 1       3.50 - 4.00              No   \n",
       "2                     year 4        3.00 - 3.49             No   \n",
       "3                     Year 2           0 - 1.99             No   \n",
       "4                     year 2       3.50 - 4.00             Yes   \n",
       "\n",
       "  Do you have Anxiety? Do you have Panic attack? Do you have Depression?  \n",
       "0                  Yes                        No                      No  \n",
       "1                  Yes                       Yes                     Yes  \n",
       "2                   No                        No                      No  \n",
       "3                   No                       Yes                      No  \n",
       "4                   No                       Yes                     Yes  "
      ]
     },
     "execution_count": 2,
     "metadata": {},
     "output_type": "execute_result"
    }
   ],
   "source": [
    "import pandas as pd\n",
    "import matplotlib.pyplot as plt\n",
    "import seaborn as sns\n",
    "\n",
    "dataset = pd.read_csv(\"C:\\\\Users\\\\Nael\\\\studentmental1.csv\")\n",
    "dataset.head(5)"
   ]
  },
  {
   "cell_type": "markdown",
   "id": "c13d9cdf",
   "metadata": {},
   "source": [
    "**Basic understandings of dataset**"
   ]
  },
  {
   "cell_type": "code",
   "execution_count": 3,
   "id": "3a993a6c",
   "metadata": {},
   "outputs": [
    {
     "name": "stdout",
     "output_type": "stream",
     "text": [
      "Size of the dataset:\n",
      "(81, 10)\n"
     ]
    }
   ],
   "source": [
    "# Viewing the Dataset Size for Total Rows and Columns\n",
    "print(\"Size of the dataset:\")\n",
    "print(dataset.shape)"
   ]
  },
  {
   "cell_type": "markdown",
   "id": "22ed1408",
   "metadata": {},
   "source": [
    "General Information about dataset"
   ]
  },
  {
   "cell_type": "code",
   "execution_count": 4,
   "id": "ce7c60d2",
   "metadata": {
    "scrolled": true
   },
   "outputs": [
    {
     "name": "stdout",
     "output_type": "stream",
     "text": [
      "<class 'pandas.core.frame.DataFrame'>\n",
      "RangeIndex: 81 entries, 0 to 80\n",
      "Data columns (total 10 columns):\n",
      " #   Column                      Non-Null Count  Dtype  \n",
      "---  ------                      --------------  -----  \n",
      " 0   Timestamp                   81 non-null     object \n",
      " 1   Choose your gender          81 non-null     object \n",
      " 2   Age                         77 non-null     float64\n",
      " 3   What is your course?        81 non-null     object \n",
      " 4   Your current year of Study  81 non-null     object \n",
      " 5   What is your CGPA?          81 non-null     object \n",
      " 6   Marital status              81 non-null     object \n",
      " 7   Do you have Anxiety?        81 non-null     object \n",
      " 8   Do you have Panic attack?   81 non-null     object \n",
      " 9   Do you have Depression?     81 non-null     object \n",
      "dtypes: float64(1), object(9)\n",
      "memory usage: 6.5+ KB\n"
     ]
    }
   ],
   "source": [
    "# General Information about dataset\n",
    "dataset.info()"
   ]
  },
  {
   "cell_type": "markdown",
   "id": "f5e813d1",
   "metadata": {},
   "source": [
    "Columns are renamed and the \"Date_Time\" column is dropped as it will not be necessary in the future"
   ]
  },
  {
   "cell_type": "code",
   "execution_count": 5,
   "id": "e2688c4d",
   "metadata": {
    "scrolled": true
   },
   "outputs": [
    {
     "data": {
      "text/html": [
       "<div>\n",
       "<style scoped>\n",
       "    .dataframe tbody tr th:only-of-type {\n",
       "        vertical-align: middle;\n",
       "    }\n",
       "\n",
       "    .dataframe tbody tr th {\n",
       "        vertical-align: top;\n",
       "    }\n",
       "\n",
       "    .dataframe thead th {\n",
       "        text-align: right;\n",
       "    }\n",
       "</style>\n",
       "<table border=\"1\" class=\"dataframe\">\n",
       "  <thead>\n",
       "    <tr style=\"text-align: right;\">\n",
       "      <th></th>\n",
       "      <th>Gender</th>\n",
       "      <th>Age</th>\n",
       "      <th>Course</th>\n",
       "      <th>Year</th>\n",
       "      <th>CGPA</th>\n",
       "      <th>Marital_status</th>\n",
       "      <th>Anxiety</th>\n",
       "      <th>Panic_attack</th>\n",
       "      <th>Depression</th>\n",
       "    </tr>\n",
       "  </thead>\n",
       "  <tbody>\n",
       "    <tr>\n",
       "      <th>0</th>\n",
       "      <td>Male</td>\n",
       "      <td>21.0</td>\n",
       "      <td>Islamic education</td>\n",
       "      <td>year 2</td>\n",
       "      <td>0 - 1.99</td>\n",
       "      <td>No</td>\n",
       "      <td>Yes</td>\n",
       "      <td>No</td>\n",
       "      <td>No</td>\n",
       "    </tr>\n",
       "    <tr>\n",
       "      <th>1</th>\n",
       "      <td>Male</td>\n",
       "      <td>21.0</td>\n",
       "      <td>BIT</td>\n",
       "      <td>Year 1</td>\n",
       "      <td>3.50 - 4.00</td>\n",
       "      <td>No</td>\n",
       "      <td>Yes</td>\n",
       "      <td>Yes</td>\n",
       "      <td>Yes</td>\n",
       "    </tr>\n",
       "    <tr>\n",
       "      <th>2</th>\n",
       "      <td>Male</td>\n",
       "      <td>23.0</td>\n",
       "      <td>Mathemathics</td>\n",
       "      <td>year 4</td>\n",
       "      <td>3.00 - 3.49</td>\n",
       "      <td>No</td>\n",
       "      <td>No</td>\n",
       "      <td>No</td>\n",
       "      <td>No</td>\n",
       "    </tr>\n",
       "    <tr>\n",
       "      <th>3</th>\n",
       "      <td>Male</td>\n",
       "      <td>19.0</td>\n",
       "      <td>Engineering</td>\n",
       "      <td>Year 2</td>\n",
       "      <td>0 - 1.99</td>\n",
       "      <td>No</td>\n",
       "      <td>No</td>\n",
       "      <td>Yes</td>\n",
       "      <td>No</td>\n",
       "    </tr>\n",
       "    <tr>\n",
       "      <th>4</th>\n",
       "      <td>Female</td>\n",
       "      <td>23.0</td>\n",
       "      <td>Pendidikan islam</td>\n",
       "      <td>year 2</td>\n",
       "      <td>3.50 - 4.00</td>\n",
       "      <td>Yes</td>\n",
       "      <td>No</td>\n",
       "      <td>Yes</td>\n",
       "      <td>Yes</td>\n",
       "    </tr>\n",
       "  </tbody>\n",
       "</table>\n",
       "</div>"
      ],
      "text/plain": [
       "   Gender   Age             Course    Year          CGPA Marital_status  \\\n",
       "0    Male  21.0  Islamic education  year 2      0 - 1.99             No   \n",
       "1    Male  21.0                BIT  Year 1  3.50 - 4.00              No   \n",
       "2    Male  23.0       Mathemathics  year 4   3.00 - 3.49             No   \n",
       "3    Male  19.0        Engineering  Year 2      0 - 1.99             No   \n",
       "4  Female  23.0   Pendidikan islam  year 2  3.50 - 4.00             Yes   \n",
       "\n",
       "  Anxiety Panic_attack Depression  \n",
       "0     Yes           No         No  \n",
       "1     Yes          Yes        Yes  \n",
       "2      No           No         No  \n",
       "3      No          Yes         No  \n",
       "4      No          Yes        Yes  "
      ]
     },
     "execution_count": 5,
     "metadata": {},
     "output_type": "execute_result"
    }
   ],
   "source": [
    "# Renaming every column to be easier to work with\n",
    "dataset.columns =['Date_Time','Gender','Age','Course','Year','CGPA','Marital_status','Anxiety','Panic_attack','Depression']\n",
    "dataset = dataset.drop(\"Date_Time\",axis='columns') #Dropped column as it is not necessary for future uses\n",
    "dataset.head(5)"
   ]
  },
  {
   "cell_type": "markdown",
   "id": "45f91523",
   "metadata": {},
   "source": [
    "Check the datatype for each column in the dataset"
   ]
  },
  {
   "cell_type": "code",
   "execution_count": 6,
   "id": "807c0aaa",
   "metadata": {},
   "outputs": [
    {
     "data": {
      "text/plain": [
       "Gender             object\n",
       "Age               float64\n",
       "Course             object\n",
       "Year               object\n",
       "CGPA               object\n",
       "Marital_status     object\n",
       "Anxiety            object\n",
       "Panic_attack       object\n",
       "Depression         object\n",
       "dtype: object"
      ]
     },
     "execution_count": 6,
     "metadata": {},
     "output_type": "execute_result"
    }
   ],
   "source": [
    "# Checking datatype of each column\n",
    "dataset.dtypes"
   ]
  },
  {
   "cell_type": "markdown",
   "id": "8b783f45",
   "metadata": {},
   "source": [
    "**Dealing with missing values**"
   ]
  },
  {
   "cell_type": "code",
   "execution_count": 7,
   "id": "beaa0920",
   "metadata": {},
   "outputs": [
    {
     "data": {
      "text/plain": [
       "Gender            0\n",
       "Age               4\n",
       "Course            0\n",
       "Year              0\n",
       "CGPA              0\n",
       "Marital_status    0\n",
       "Anxiety           0\n",
       "Panic_attack      0\n",
       "Depression        0\n",
       "dtype: int64"
      ]
     },
     "execution_count": 7,
     "metadata": {},
     "output_type": "execute_result"
    }
   ],
   "source": [
    "# Checks for total missing values in each column\n",
    "dataset.isnull().sum()"
   ]
  },
  {
   "cell_type": "markdown",
   "id": "ec34fdc9",
   "metadata": {},
   "source": [
    "Identify the mean value for age column and round it up to be used for replacing missing values in the 'Age' Column"
   ]
  },
  {
   "cell_type": "code",
   "execution_count": 8,
   "id": "7cd8f41d",
   "metadata": {},
   "outputs": [
    {
     "data": {
      "text/plain": [
       "count    77.000000\n",
       "mean     20.623377\n",
       "std       2.471091\n",
       "min      18.000000\n",
       "25%      18.000000\n",
       "50%      19.000000\n",
       "75%      23.000000\n",
       "max      24.000000\n",
       "Name: Age, dtype: float64"
      ]
     },
     "execution_count": 8,
     "metadata": {},
     "output_type": "execute_result"
    }
   ],
   "source": [
    "# Identify mean value in \"age\" column\n",
    "dataset['Age'].describe()"
   ]
  },
  {
   "cell_type": "code",
   "execution_count": 9,
   "id": "38e33729",
   "metadata": {},
   "outputs": [
    {
     "data": {
      "text/plain": [
       "Gender            0\n",
       "Age               0\n",
       "Course            0\n",
       "Year              0\n",
       "CGPA              0\n",
       "Marital_status    0\n",
       "Anxiety           0\n",
       "Panic_attack      0\n",
       "Depression        0\n",
       "dtype: int64"
      ]
     },
     "execution_count": 9,
     "metadata": {},
     "output_type": "execute_result"
    }
   ],
   "source": [
    "# Round up mean value to be used for replacing missing values\n",
    "dataset.Age.fillna(21, inplace=True)\n",
    "dataset.isnull().sum()"
   ]
  },
  {
   "cell_type": "markdown",
   "id": "428b4c65",
   "metadata": {},
   "source": [
    "**Standardizing Course Names**"
   ]
  },
  {
   "cell_type": "code",
   "execution_count": 10,
   "id": "3ccbf964",
   "metadata": {
    "scrolled": true
   },
   "outputs": [
    {
     "name": "stdout",
     "output_type": "stream",
     "text": [
      "No. of courses:  42\n",
      "['Islamic education', 'BIT', 'Mathemathics', 'Engineering', 'Pendidikan islam', 'BCS', 'Human Resources', 'Irkhs', 'Psychology', 'KENMS', 'Accounting ', 'ENM', 'Marine science', 'KOE', 'Banking Studies', 'Business Administration', 'KIRKHS', 'Usuluddin ', 'TAASL', 'Laws', 'ALA', 'Biomedical science', 'Kirkhs', 'BENL', 'Benl', 'IT', 'CTS', 'MHSC', 'Malcom', 'Kop', 'Human Sciences ', 'Biotechnology', 'Communication ', 'Diploma Nursing', 'Pendidikan Islam ', 'Radiography', 'Fiqh fatwa ', 'DIPLOMA TESL', 'Koe', 'Fiqh', 'Nursing ', 'Pendidikan Islam']\n"
     ]
    }
   ],
   "source": [
    "# Identifying all the unique values in the column \"Course\"\n",
    "all_course = dataset['Course'].unique().tolist()\n",
    "print('No. of courses: ', len(all_course))\n",
    "print(all_course)"
   ]
  },
  {
   "cell_type": "code",
   "execution_count": 11,
   "id": "fe293909",
   "metadata": {},
   "outputs": [
    {
     "name": "stdout",
     "output_type": "stream",
     "text": [
      "No. of courses:  33\n",
      "['Islamic education', 'IT', 'Mathemathics', 'Engineering', 'Pendidikan Islam', 'BCS', 'Human Resources', 'Irkhs', 'Psychology', 'ENM', 'Accounting ', 'Marine science', 'Koe', 'Banking Studies', 'Business Administration', 'Usuluddin ', 'TAASL', 'Laws', 'ALA', 'Biomedical science', 'Benl', 'CTS', 'MHSC', 'Malcom', 'Kop', 'Human Sciences ', 'Biotechnology', 'Communication ', 'Nursing', 'Radiography', 'Fiqh fatwa ', 'DIPLOMA TESL', 'Fiqh']\n"
     ]
    }
   ],
   "source": [
    "# Standardizing values by replacing certain unique values.\n",
    "dataset['Course'].replace({'BIT':'IT','Pendidikan islam':'Pendidikan Islam', 'Pendidikan Islam ':'Pendidikan Islam',\n",
    "                           'KENMS':'ENM','KOE':'Koe','Kirkhs': 'Irkhs', 'KIRKHS': 'Irkhs', 'BENL':'Benl',\n",
    "                           'Diploma Nursing': 'Nursing','Nursing ': 'Nursing','Fiqh fatwa':'Fiqh'}, inplace = True)\n",
    "\n",
    "# Confirming values have been replaced\n",
    "all_course = dataset['Course'].unique().tolist()\n",
    "print('No. of courses: ', len(all_course))\n",
    "print(all_course)"
   ]
  },
  {
   "cell_type": "code",
   "execution_count": 12,
   "id": "ef95e6ed",
   "metadata": {
    "scrolled": true
   },
   "outputs": [
    {
     "data": {
      "text/html": [
       "<div>\n",
       "<style scoped>\n",
       "    .dataframe tbody tr th:only-of-type {\n",
       "        vertical-align: middle;\n",
       "    }\n",
       "\n",
       "    .dataframe tbody tr th {\n",
       "        vertical-align: top;\n",
       "    }\n",
       "\n",
       "    .dataframe thead th {\n",
       "        text-align: right;\n",
       "    }\n",
       "</style>\n",
       "<table border=\"1\" class=\"dataframe\">\n",
       "  <thead>\n",
       "    <tr style=\"text-align: right;\">\n",
       "      <th></th>\n",
       "      <th>Gender</th>\n",
       "      <th>Age</th>\n",
       "      <th>Course</th>\n",
       "      <th>Year</th>\n",
       "      <th>CGPA</th>\n",
       "      <th>Marital_status</th>\n",
       "      <th>Anxiety</th>\n",
       "      <th>Panic_attack</th>\n",
       "      <th>Depression</th>\n",
       "    </tr>\n",
       "  </thead>\n",
       "  <tbody>\n",
       "    <tr>\n",
       "      <th>0</th>\n",
       "      <td>Male</td>\n",
       "      <td>21.0</td>\n",
       "      <td>Islamic education</td>\n",
       "      <td>year 2</td>\n",
       "      <td>0 - 1.99</td>\n",
       "      <td>No</td>\n",
       "      <td>Yes</td>\n",
       "      <td>No</td>\n",
       "      <td>No</td>\n",
       "    </tr>\n",
       "    <tr>\n",
       "      <th>1</th>\n",
       "      <td>Male</td>\n",
       "      <td>21.0</td>\n",
       "      <td>IT</td>\n",
       "      <td>Year 1</td>\n",
       "      <td>3.50 - 4.00</td>\n",
       "      <td>No</td>\n",
       "      <td>Yes</td>\n",
       "      <td>Yes</td>\n",
       "      <td>Yes</td>\n",
       "    </tr>\n",
       "    <tr>\n",
       "      <th>2</th>\n",
       "      <td>Male</td>\n",
       "      <td>23.0</td>\n",
       "      <td>Mathemathics</td>\n",
       "      <td>year 4</td>\n",
       "      <td>3.00 - 3.49</td>\n",
       "      <td>No</td>\n",
       "      <td>No</td>\n",
       "      <td>No</td>\n",
       "      <td>No</td>\n",
       "    </tr>\n",
       "    <tr>\n",
       "      <th>3</th>\n",
       "      <td>Male</td>\n",
       "      <td>19.0</td>\n",
       "      <td>Engineering</td>\n",
       "      <td>Year 2</td>\n",
       "      <td>0 - 1.99</td>\n",
       "      <td>No</td>\n",
       "      <td>No</td>\n",
       "      <td>Yes</td>\n",
       "      <td>No</td>\n",
       "    </tr>\n",
       "    <tr>\n",
       "      <th>4</th>\n",
       "      <td>Female</td>\n",
       "      <td>23.0</td>\n",
       "      <td>Pendidikan Islam</td>\n",
       "      <td>year 2</td>\n",
       "      <td>3.50 - 4.00</td>\n",
       "      <td>Yes</td>\n",
       "      <td>No</td>\n",
       "      <td>Yes</td>\n",
       "      <td>Yes</td>\n",
       "    </tr>\n",
       "  </tbody>\n",
       "</table>\n",
       "</div>"
      ],
      "text/plain": [
       "   Gender   Age             Course    Year          CGPA Marital_status  \\\n",
       "0    Male  21.0  Islamic education  year 2      0 - 1.99             No   \n",
       "1    Male  21.0                 IT  Year 1  3.50 - 4.00              No   \n",
       "2    Male  23.0       Mathemathics  year 4   3.00 - 3.49             No   \n",
       "3    Male  19.0        Engineering  Year 2      0 - 1.99             No   \n",
       "4  Female  23.0   Pendidikan Islam  year 2  3.50 - 4.00             Yes   \n",
       "\n",
       "  Anxiety Panic_attack Depression  \n",
       "0     Yes           No         No  \n",
       "1     Yes          Yes        Yes  \n",
       "2      No           No         No  \n",
       "3      No          Yes         No  \n",
       "4      No          Yes        Yes  "
      ]
     },
     "execution_count": 12,
     "metadata": {},
     "output_type": "execute_result"
    }
   ],
   "source": [
    "dataset.head(5)"
   ]
  },
  {
   "cell_type": "markdown",
   "id": "a0dfe444",
   "metadata": {},
   "source": [
    "**Formatting Year Column**"
   ]
  },
  {
   "cell_type": "code",
   "execution_count": 13,
   "id": "c6fcec35",
   "metadata": {},
   "outputs": [
    {
     "name": "stdout",
     "output_type": "stream",
     "text": [
      "Before Formatting:  ['year 2', 'Year 1', 'year 4', 'Year 2', 'year 1', 'Year 3', 'year 3']\n",
      "After Formatting [2, 1, 4, 3]\n"
     ]
    }
   ],
   "source": [
    "# Identify all unique values in the column \"Year\"\n",
    "print(\"Before Formatting: \", dataset['Year'].unique().tolist())\n",
    "\n",
    "# Only extract the integer value from the year\n",
    "def clearText(year):\n",
    "    year = year[-1]\n",
    "    return int(year)\n",
    "dataset['Year'] = dataset['Year'].apply(clearText)\n",
    "\n",
    "# Check changes for unique values in column \"Year\"\n",
    "print(\"After Formatting\", dataset['Year'].unique().tolist())"
   ]
  },
  {
   "cell_type": "markdown",
   "id": "afb6fb43",
   "metadata": {},
   "source": [
    "**Transform Categorical Variables into Numerical Values**"
   ]
  },
  {
   "cell_type": "code",
   "execution_count": 14,
   "id": "6f406929",
   "metadata": {},
   "outputs": [
    {
     "data": {
      "text/html": [
       "<div>\n",
       "<style scoped>\n",
       "    .dataframe tbody tr th:only-of-type {\n",
       "        vertical-align: middle;\n",
       "    }\n",
       "\n",
       "    .dataframe tbody tr th {\n",
       "        vertical-align: top;\n",
       "    }\n",
       "\n",
       "    .dataframe thead th {\n",
       "        text-align: right;\n",
       "    }\n",
       "</style>\n",
       "<table border=\"1\" class=\"dataframe\">\n",
       "  <thead>\n",
       "    <tr style=\"text-align: right;\">\n",
       "      <th></th>\n",
       "      <th>Gender</th>\n",
       "      <th>Age</th>\n",
       "      <th>Course</th>\n",
       "      <th>Year</th>\n",
       "      <th>CGPA</th>\n",
       "      <th>Marital_status</th>\n",
       "      <th>Anxiety</th>\n",
       "      <th>Panic_attack</th>\n",
       "      <th>Depression</th>\n",
       "    </tr>\n",
       "  </thead>\n",
       "  <tbody>\n",
       "    <tr>\n",
       "      <th>0</th>\n",
       "      <td>Male</td>\n",
       "      <td>21.0</td>\n",
       "      <td>Islamic education</td>\n",
       "      <td>2</td>\n",
       "      <td>0 - 1.99</td>\n",
       "      <td>No</td>\n",
       "      <td>Yes</td>\n",
       "      <td>No</td>\n",
       "      <td>No</td>\n",
       "    </tr>\n",
       "    <tr>\n",
       "      <th>1</th>\n",
       "      <td>Male</td>\n",
       "      <td>21.0</td>\n",
       "      <td>IT</td>\n",
       "      <td>1</td>\n",
       "      <td>3.50 - 4.00</td>\n",
       "      <td>No</td>\n",
       "      <td>Yes</td>\n",
       "      <td>Yes</td>\n",
       "      <td>Yes</td>\n",
       "    </tr>\n",
       "    <tr>\n",
       "      <th>2</th>\n",
       "      <td>Male</td>\n",
       "      <td>23.0</td>\n",
       "      <td>Mathemathics</td>\n",
       "      <td>4</td>\n",
       "      <td>3.00 - 3.49</td>\n",
       "      <td>No</td>\n",
       "      <td>No</td>\n",
       "      <td>No</td>\n",
       "      <td>No</td>\n",
       "    </tr>\n",
       "    <tr>\n",
       "      <th>3</th>\n",
       "      <td>Male</td>\n",
       "      <td>19.0</td>\n",
       "      <td>Engineering</td>\n",
       "      <td>2</td>\n",
       "      <td>0 - 1.99</td>\n",
       "      <td>No</td>\n",
       "      <td>No</td>\n",
       "      <td>Yes</td>\n",
       "      <td>No</td>\n",
       "    </tr>\n",
       "    <tr>\n",
       "      <th>4</th>\n",
       "      <td>Female</td>\n",
       "      <td>23.0</td>\n",
       "      <td>Pendidikan Islam</td>\n",
       "      <td>2</td>\n",
       "      <td>3.50 - 4.00</td>\n",
       "      <td>Yes</td>\n",
       "      <td>No</td>\n",
       "      <td>Yes</td>\n",
       "      <td>Yes</td>\n",
       "    </tr>\n",
       "  </tbody>\n",
       "</table>\n",
       "</div>"
      ],
      "text/plain": [
       "   Gender   Age             Course  Year          CGPA Marital_status Anxiety  \\\n",
       "0    Male  21.0  Islamic education     2      0 - 1.99             No     Yes   \n",
       "1    Male  21.0                 IT     1  3.50 - 4.00              No     Yes   \n",
       "2    Male  23.0       Mathemathics     4   3.00 - 3.49             No      No   \n",
       "3    Male  19.0        Engineering     2      0 - 1.99             No      No   \n",
       "4  Female  23.0   Pendidikan Islam     2  3.50 - 4.00             Yes      No   \n",
       "\n",
       "  Panic_attack Depression  \n",
       "0           No         No  \n",
       "1          Yes        Yes  \n",
       "2           No         No  \n",
       "3          Yes         No  \n",
       "4          Yes        Yes  "
      ]
     },
     "execution_count": 14,
     "metadata": {},
     "output_type": "execute_result"
    }
   ],
   "source": [
    "dataset.head(5)"
   ]
  },
  {
   "cell_type": "code",
   "execution_count": 15,
   "id": "b0a2f386",
   "metadata": {},
   "outputs": [
    {
     "data": {
      "text/html": [
       "<div>\n",
       "<style scoped>\n",
       "    .dataframe tbody tr th:only-of-type {\n",
       "        vertical-align: middle;\n",
       "    }\n",
       "\n",
       "    .dataframe tbody tr th {\n",
       "        vertical-align: top;\n",
       "    }\n",
       "\n",
       "    .dataframe thead th {\n",
       "        text-align: right;\n",
       "    }\n",
       "</style>\n",
       "<table border=\"1\" class=\"dataframe\">\n",
       "  <thead>\n",
       "    <tr style=\"text-align: right;\">\n",
       "      <th></th>\n",
       "      <th>Gender</th>\n",
       "      <th>Age</th>\n",
       "      <th>Course</th>\n",
       "      <th>Year</th>\n",
       "      <th>CGPA</th>\n",
       "      <th>Marital_status</th>\n",
       "      <th>Anxiety</th>\n",
       "      <th>Panic_attack</th>\n",
       "      <th>Depression</th>\n",
       "    </tr>\n",
       "  </thead>\n",
       "  <tbody>\n",
       "    <tr>\n",
       "      <th>0</th>\n",
       "      <td>Male</td>\n",
       "      <td>21.0</td>\n",
       "      <td>Islamic education</td>\n",
       "      <td>2</td>\n",
       "      <td>0 - 1.99</td>\n",
       "      <td>0</td>\n",
       "      <td>1</td>\n",
       "      <td>0</td>\n",
       "      <td>0</td>\n",
       "    </tr>\n",
       "    <tr>\n",
       "      <th>1</th>\n",
       "      <td>Male</td>\n",
       "      <td>21.0</td>\n",
       "      <td>IT</td>\n",
       "      <td>1</td>\n",
       "      <td>3.50 - 4.00</td>\n",
       "      <td>0</td>\n",
       "      <td>1</td>\n",
       "      <td>1</td>\n",
       "      <td>1</td>\n",
       "    </tr>\n",
       "    <tr>\n",
       "      <th>2</th>\n",
       "      <td>Male</td>\n",
       "      <td>23.0</td>\n",
       "      <td>Mathemathics</td>\n",
       "      <td>4</td>\n",
       "      <td>3.00 - 3.49</td>\n",
       "      <td>0</td>\n",
       "      <td>0</td>\n",
       "      <td>0</td>\n",
       "      <td>0</td>\n",
       "    </tr>\n",
       "    <tr>\n",
       "      <th>3</th>\n",
       "      <td>Male</td>\n",
       "      <td>19.0</td>\n",
       "      <td>Engineering</td>\n",
       "      <td>2</td>\n",
       "      <td>0 - 1.99</td>\n",
       "      <td>0</td>\n",
       "      <td>0</td>\n",
       "      <td>1</td>\n",
       "      <td>0</td>\n",
       "    </tr>\n",
       "    <tr>\n",
       "      <th>4</th>\n",
       "      <td>Female</td>\n",
       "      <td>23.0</td>\n",
       "      <td>Pendidikan Islam</td>\n",
       "      <td>2</td>\n",
       "      <td>3.50 - 4.00</td>\n",
       "      <td>1</td>\n",
       "      <td>0</td>\n",
       "      <td>1</td>\n",
       "      <td>1</td>\n",
       "    </tr>\n",
       "  </tbody>\n",
       "</table>\n",
       "</div>"
      ],
      "text/plain": [
       "   Gender   Age             Course  Year          CGPA  Marital_status  \\\n",
       "0    Male  21.0  Islamic education     2      0 - 1.99               0   \n",
       "1    Male  21.0                 IT     1  3.50 - 4.00                0   \n",
       "2    Male  23.0       Mathemathics     4   3.00 - 3.49               0   \n",
       "3    Male  19.0        Engineering     2      0 - 1.99               0   \n",
       "4  Female  23.0   Pendidikan Islam     2  3.50 - 4.00                1   \n",
       "\n",
       "   Anxiety  Panic_attack  Depression  \n",
       "0        1             0           0  \n",
       "1        1             1           1  \n",
       "2        0             0           0  \n",
       "3        0             1           0  \n",
       "4        0             1           1  "
      ]
     },
     "execution_count": 15,
     "metadata": {},
     "output_type": "execute_result"
    }
   ],
   "source": [
    "# Maps \"Yes\" \"No\" values to 0 or 1 respectively\n",
    "dataset['Marital_status'] = dataset['Marital_status'].map({'Yes': 1, 'No': 0})\n",
    "dataset['Anxiety'] = dataset['Anxiety'].map({'Yes': 1, 'No': 0})\n",
    "dataset['Panic_attack'] = dataset['Panic_attack'].map({'Yes': 1, 'No': 0})\n",
    "dataset['Depression'] = dataset['Depression'].map({'Yes': 1, 'No': 0})\n",
    "\n",
    "dataset.head(5)"
   ]
  },
  {
   "cell_type": "code",
   "execution_count": 16,
   "id": "b4a45fc1",
   "metadata": {},
   "outputs": [
    {
     "data": {
      "text/html": [
       "<div>\n",
       "<style scoped>\n",
       "    .dataframe tbody tr th:only-of-type {\n",
       "        vertical-align: middle;\n",
       "    }\n",
       "\n",
       "    .dataframe tbody tr th {\n",
       "        vertical-align: top;\n",
       "    }\n",
       "\n",
       "    .dataframe thead th {\n",
       "        text-align: right;\n",
       "    }\n",
       "</style>\n",
       "<table border=\"1\" class=\"dataframe\">\n",
       "  <thead>\n",
       "    <tr style=\"text-align: right;\">\n",
       "      <th></th>\n",
       "      <th>Gender</th>\n",
       "      <th>Age</th>\n",
       "      <th>Course</th>\n",
       "      <th>Year</th>\n",
       "      <th>CGPA</th>\n",
       "      <th>Marital_status</th>\n",
       "      <th>Anxiety</th>\n",
       "      <th>Panic_attack</th>\n",
       "      <th>Depression</th>\n",
       "    </tr>\n",
       "  </thead>\n",
       "  <tbody>\n",
       "    <tr>\n",
       "      <th>0</th>\n",
       "      <td>1</td>\n",
       "      <td>21.0</td>\n",
       "      <td>19</td>\n",
       "      <td>2</td>\n",
       "      <td>0 - 1.99</td>\n",
       "      <td>0</td>\n",
       "      <td>1</td>\n",
       "      <td>0</td>\n",
       "      <td>0</td>\n",
       "    </tr>\n",
       "    <tr>\n",
       "      <th>1</th>\n",
       "      <td>1</td>\n",
       "      <td>21.0</td>\n",
       "      <td>17</td>\n",
       "      <td>1</td>\n",
       "      <td>3.50 - 4.00</td>\n",
       "      <td>0</td>\n",
       "      <td>1</td>\n",
       "      <td>1</td>\n",
       "      <td>1</td>\n",
       "    </tr>\n",
       "    <tr>\n",
       "      <th>2</th>\n",
       "      <td>1</td>\n",
       "      <td>23.0</td>\n",
       "      <td>26</td>\n",
       "      <td>4</td>\n",
       "      <td>3.00 - 3.49</td>\n",
       "      <td>0</td>\n",
       "      <td>0</td>\n",
       "      <td>0</td>\n",
       "      <td>0</td>\n",
       "    </tr>\n",
       "    <tr>\n",
       "      <th>3</th>\n",
       "      <td>1</td>\n",
       "      <td>19.0</td>\n",
       "      <td>12</td>\n",
       "      <td>2</td>\n",
       "      <td>0 - 1.99</td>\n",
       "      <td>0</td>\n",
       "      <td>0</td>\n",
       "      <td>1</td>\n",
       "      <td>0</td>\n",
       "    </tr>\n",
       "    <tr>\n",
       "      <th>4</th>\n",
       "      <td>0</td>\n",
       "      <td>23.0</td>\n",
       "      <td>28</td>\n",
       "      <td>2</td>\n",
       "      <td>3.50 - 4.00</td>\n",
       "      <td>1</td>\n",
       "      <td>0</td>\n",
       "      <td>1</td>\n",
       "      <td>1</td>\n",
       "    </tr>\n",
       "  </tbody>\n",
       "</table>\n",
       "</div>"
      ],
      "text/plain": [
       "   Gender   Age  Course  Year          CGPA  Marital_status  Anxiety  \\\n",
       "0       1  21.0      19     2      0 - 1.99               0        1   \n",
       "1       1  21.0      17     1  3.50 - 4.00                0        1   \n",
       "2       1  23.0      26     4   3.00 - 3.49               0        0   \n",
       "3       1  19.0      12     2      0 - 1.99               0        0   \n",
       "4       0  23.0      28     2  3.50 - 4.00                1        0   \n",
       "\n",
       "   Panic_attack  Depression  \n",
       "0             0           0  \n",
       "1             1           1  \n",
       "2             0           0  \n",
       "3             1           0  \n",
       "4             1           1  "
      ]
     },
     "execution_count": 16,
     "metadata": {},
     "output_type": "execute_result"
    }
   ],
   "source": [
    "#Since Gender and Course are in categorical values, label encoding is applied to change it to numerical values\n",
    "from sklearn.preprocessing import LabelEncoder\n",
    "cols = ['Gender', 'Course']\n",
    "dataset[cols] = dataset[cols].apply(LabelEncoder().fit_transform)\n",
    "dataset.head()"
   ]
  },
  {
   "cell_type": "markdown",
   "id": "42738c0b",
   "metadata": {},
   "source": [
    "**CGPA Whitespace removal**"
   ]
  },
  {
   "cell_type": "code",
   "execution_count": 17,
   "id": "0d27c39c",
   "metadata": {},
   "outputs": [
    {
     "name": "stdout",
     "output_type": "stream",
     "text": [
      "Before Formatting:  ['0 - 1.99', '3.50 - 4.00 ', '3.00 - 3.49', '2.50 - 2.99', '3.50 - 4.00', '2.00 - 2.49']\n",
      "After Formatting:  ['0 - 1.99', '3.50 - 4.00', '3.00 - 3.49', '2.50 - 2.99', '2.00 - 2.49']\n"
     ]
    }
   ],
   "source": [
    "# Identify Unique Values of \"CGPA\" column\n",
    "print(\"Before Formatting: \", dataset['CGPA'].unique().tolist())\n",
    "def whitespace_removal(value):\n",
    "    value = value.strip() #strip() is used to remove any space at beginning/end of string\n",
    "    return value\n",
    "dataset['CGPA'] = dataset['CGPA'].apply(whitespace_removal)\n",
    "\n",
    "# Check that all whitespaces have been removed\n",
    "print(\"After Formatting: \", dataset['CGPA'].unique().tolist())"
   ]
  },
  {
   "cell_type": "markdown",
   "id": "17301fe5",
   "metadata": {},
   "source": [
    "**Assigning Midpoint value for column \"CGPA\"**"
   ]
  },
  {
   "cell_type": "code",
   "execution_count": 18,
   "id": "d34a5375",
   "metadata": {},
   "outputs": [
    {
     "data": {
      "text/html": [
       "<div>\n",
       "<style scoped>\n",
       "    .dataframe tbody tr th:only-of-type {\n",
       "        vertical-align: middle;\n",
       "    }\n",
       "\n",
       "    .dataframe tbody tr th {\n",
       "        vertical-align: top;\n",
       "    }\n",
       "\n",
       "    .dataframe thead th {\n",
       "        text-align: right;\n",
       "    }\n",
       "</style>\n",
       "<table border=\"1\" class=\"dataframe\">\n",
       "  <thead>\n",
       "    <tr style=\"text-align: right;\">\n",
       "      <th></th>\n",
       "      <th>Gender</th>\n",
       "      <th>Age</th>\n",
       "      <th>Course</th>\n",
       "      <th>Year</th>\n",
       "      <th>CGPA</th>\n",
       "      <th>Marital_status</th>\n",
       "      <th>Anxiety</th>\n",
       "      <th>Panic_attack</th>\n",
       "      <th>Depression</th>\n",
       "    </tr>\n",
       "  </thead>\n",
       "  <tbody>\n",
       "    <tr>\n",
       "      <th>0</th>\n",
       "      <td>1</td>\n",
       "      <td>21.0</td>\n",
       "      <td>19</td>\n",
       "      <td>2</td>\n",
       "      <td>0.99</td>\n",
       "      <td>0</td>\n",
       "      <td>1</td>\n",
       "      <td>0</td>\n",
       "      <td>0</td>\n",
       "    </tr>\n",
       "    <tr>\n",
       "      <th>1</th>\n",
       "      <td>1</td>\n",
       "      <td>21.0</td>\n",
       "      <td>17</td>\n",
       "      <td>1</td>\n",
       "      <td>3.75</td>\n",
       "      <td>0</td>\n",
       "      <td>1</td>\n",
       "      <td>1</td>\n",
       "      <td>1</td>\n",
       "    </tr>\n",
       "    <tr>\n",
       "      <th>2</th>\n",
       "      <td>1</td>\n",
       "      <td>23.0</td>\n",
       "      <td>26</td>\n",
       "      <td>4</td>\n",
       "      <td>3.25</td>\n",
       "      <td>0</td>\n",
       "      <td>0</td>\n",
       "      <td>0</td>\n",
       "      <td>0</td>\n",
       "    </tr>\n",
       "    <tr>\n",
       "      <th>3</th>\n",
       "      <td>1</td>\n",
       "      <td>19.0</td>\n",
       "      <td>12</td>\n",
       "      <td>2</td>\n",
       "      <td>0.99</td>\n",
       "      <td>0</td>\n",
       "      <td>0</td>\n",
       "      <td>1</td>\n",
       "      <td>0</td>\n",
       "    </tr>\n",
       "    <tr>\n",
       "      <th>4</th>\n",
       "      <td>0</td>\n",
       "      <td>23.0</td>\n",
       "      <td>28</td>\n",
       "      <td>2</td>\n",
       "      <td>3.75</td>\n",
       "      <td>1</td>\n",
       "      <td>0</td>\n",
       "      <td>1</td>\n",
       "      <td>1</td>\n",
       "    </tr>\n",
       "  </tbody>\n",
       "</table>\n",
       "</div>"
      ],
      "text/plain": [
       "   Gender   Age  Course  Year  CGPA  Marital_status  Anxiety  Panic_attack  \\\n",
       "0       1  21.0      19     2  0.99               0        1             0   \n",
       "1       1  21.0      17     1  3.75               0        1             1   \n",
       "2       1  23.0      26     4  3.25               0        0             0   \n",
       "3       1  19.0      12     2  0.99               0        0             1   \n",
       "4       0  23.0      28     2  3.75               1        0             1   \n",
       "\n",
       "   Depression  \n",
       "0           0  \n",
       "1           1  \n",
       "2           0  \n",
       "3           0  \n",
       "4           1  "
      ]
     },
     "execution_count": 18,
     "metadata": {},
     "output_type": "execute_result"
    }
   ],
   "source": [
    "#Finding midpoint of CGPA\n",
    "def midpoint(value):\n",
    "    if value == '0 - 1.99':\n",
    "        value =  \"{:.2f}\".format((0.00 + 1.99)/2)\n",
    "\n",
    "    elif value == '2.00 - 2.49':\n",
    "        value =  \"{:.2f}\".format((2.00 + 2.49)/2)\n",
    "\n",
    "    elif value == '2.50 - 2.99':\n",
    "        value =  \"{:.2f}\".format((2.50 + 2.99)/2)\n",
    "\n",
    "    elif value == '3.00 - 3.49':\n",
    "        value =  \"{:.2f}\".format((3.00 + 3.49)/2)\n",
    "\n",
    "    else:\n",
    "        value = \"{:.2f}\".format((3.50 + 4.00) / 2)\n",
    "\n",
    "    return float(value)\n",
    "\n",
    "# Assign Midpoint value to \"CGPA\" column\n",
    "dataset['CGPA'] = dataset['CGPA'].apply(midpoint)\n",
    "dataset.head()"
   ]
  },
  {
   "cell_type": "markdown",
   "id": "70044629",
   "metadata": {},
   "source": [
    "# -- End of Data Processing --"
   ]
  },
  {
   "cell_type": "markdown",
   "id": "fbbd4565",
   "metadata": {},
   "source": [
    "# Part 2 - EDA"
   ]
  },
  {
   "cell_type": "code",
   "execution_count": 19,
   "id": "ec6df488",
   "metadata": {},
   "outputs": [
    {
     "data": {
      "text/plain": [
       "Gender              int32\n",
       "Age               float64\n",
       "Course              int32\n",
       "Year                int64\n",
       "CGPA              float64\n",
       "Marital_status      int64\n",
       "Anxiety             int64\n",
       "Panic_attack        int64\n",
       "Depression          int64\n",
       "dtype: object"
      ]
     },
     "execution_count": 19,
     "metadata": {},
     "output_type": "execute_result"
    }
   ],
   "source": [
    "# Ensuring that datatypes of all column are properly formatted\n",
    "dataset.dtypes"
   ]
  },
  {
   "cell_type": "code",
   "execution_count": 20,
   "id": "b135f8d9",
   "metadata": {},
   "outputs": [
    {
     "data": {
      "text/plain": [
       "Gender            0\n",
       "Age               0\n",
       "Course            0\n",
       "Year              0\n",
       "CGPA              0\n",
       "Marital_status    0\n",
       "Anxiety           0\n",
       "Panic_attack      0\n",
       "Depression        0\n",
       "dtype: int64"
      ]
     },
     "execution_count": 20,
     "metadata": {},
     "output_type": "execute_result"
    }
   ],
   "source": [
    "# Ensuring that there are no more columns with missing data\n",
    "dataset.isnull().sum()"
   ]
  },
  {
   "cell_type": "code",
   "execution_count": 21,
   "id": "f6b96f7b",
   "metadata": {
    "scrolled": true
   },
   "outputs": [
    {
     "data": {
      "text/html": [
       "<div>\n",
       "<style scoped>\n",
       "    .dataframe tbody tr th:only-of-type {\n",
       "        vertical-align: middle;\n",
       "    }\n",
       "\n",
       "    .dataframe tbody tr th {\n",
       "        vertical-align: top;\n",
       "    }\n",
       "\n",
       "    .dataframe thead th {\n",
       "        text-align: right;\n",
       "    }\n",
       "</style>\n",
       "<table border=\"1\" class=\"dataframe\">\n",
       "  <thead>\n",
       "    <tr style=\"text-align: right;\">\n",
       "      <th></th>\n",
       "      <th>Gender</th>\n",
       "      <th>Age</th>\n",
       "      <th>Course</th>\n",
       "      <th>Year</th>\n",
       "      <th>CGPA</th>\n",
       "      <th>Marital_status</th>\n",
       "      <th>Anxiety</th>\n",
       "      <th>Panic_attack</th>\n",
       "      <th>Depression</th>\n",
       "    </tr>\n",
       "  </thead>\n",
       "  <tbody>\n",
       "    <tr>\n",
       "      <th>count</th>\n",
       "      <td>81.000000</td>\n",
       "      <td>81.000000</td>\n",
       "      <td>81.000000</td>\n",
       "      <td>81.000000</td>\n",
       "      <td>81.000000</td>\n",
       "      <td>81.000000</td>\n",
       "      <td>81.000000</td>\n",
       "      <td>81.000000</td>\n",
       "      <td>81.000000</td>\n",
       "    </tr>\n",
       "    <tr>\n",
       "      <th>mean</th>\n",
       "      <td>0.283951</td>\n",
       "      <td>20.641975</td>\n",
       "      <td>13.604938</td>\n",
       "      <td>2.049383</td>\n",
       "      <td>2.797160</td>\n",
       "      <td>0.160494</td>\n",
       "      <td>0.296296</td>\n",
       "      <td>0.308642</td>\n",
       "      <td>0.271605</td>\n",
       "    </tr>\n",
       "    <tr>\n",
       "      <th>std</th>\n",
       "      <td>0.453723</td>\n",
       "      <td>2.409920</td>\n",
       "      <td>8.715904</td>\n",
       "      <td>0.986170</td>\n",
       "      <td>1.080085</td>\n",
       "      <td>0.369350</td>\n",
       "      <td>0.459468</td>\n",
       "      <td>0.464811</td>\n",
       "      <td>0.447559</td>\n",
       "    </tr>\n",
       "    <tr>\n",
       "      <th>min</th>\n",
       "      <td>0.000000</td>\n",
       "      <td>18.000000</td>\n",
       "      <td>0.000000</td>\n",
       "      <td>1.000000</td>\n",
       "      <td>0.990000</td>\n",
       "      <td>0.000000</td>\n",
       "      <td>0.000000</td>\n",
       "      <td>0.000000</td>\n",
       "      <td>0.000000</td>\n",
       "    </tr>\n",
       "    <tr>\n",
       "      <th>25%</th>\n",
       "      <td>0.000000</td>\n",
       "      <td>18.000000</td>\n",
       "      <td>5.000000</td>\n",
       "      <td>1.000000</td>\n",
       "      <td>2.250000</td>\n",
       "      <td>0.000000</td>\n",
       "      <td>0.000000</td>\n",
       "      <td>0.000000</td>\n",
       "      <td>0.000000</td>\n",
       "    </tr>\n",
       "    <tr>\n",
       "      <th>50%</th>\n",
       "      <td>0.000000</td>\n",
       "      <td>20.000000</td>\n",
       "      <td>12.000000</td>\n",
       "      <td>2.000000</td>\n",
       "      <td>3.250000</td>\n",
       "      <td>0.000000</td>\n",
       "      <td>0.000000</td>\n",
       "      <td>0.000000</td>\n",
       "      <td>0.000000</td>\n",
       "    </tr>\n",
       "    <tr>\n",
       "      <th>75%</th>\n",
       "      <td>1.000000</td>\n",
       "      <td>23.000000</td>\n",
       "      <td>20.000000</td>\n",
       "      <td>3.000000</td>\n",
       "      <td>3.750000</td>\n",
       "      <td>0.000000</td>\n",
       "      <td>1.000000</td>\n",
       "      <td>1.000000</td>\n",
       "      <td>1.000000</td>\n",
       "    </tr>\n",
       "    <tr>\n",
       "      <th>max</th>\n",
       "      <td>1.000000</td>\n",
       "      <td>24.000000</td>\n",
       "      <td>32.000000</td>\n",
       "      <td>4.000000</td>\n",
       "      <td>3.750000</td>\n",
       "      <td>1.000000</td>\n",
       "      <td>1.000000</td>\n",
       "      <td>1.000000</td>\n",
       "      <td>1.000000</td>\n",
       "    </tr>\n",
       "  </tbody>\n",
       "</table>\n",
       "</div>"
      ],
      "text/plain": [
       "          Gender        Age     Course       Year       CGPA  Marital_status  \\\n",
       "count  81.000000  81.000000  81.000000  81.000000  81.000000       81.000000   \n",
       "mean    0.283951  20.641975  13.604938   2.049383   2.797160        0.160494   \n",
       "std     0.453723   2.409920   8.715904   0.986170   1.080085        0.369350   \n",
       "min     0.000000  18.000000   0.000000   1.000000   0.990000        0.000000   \n",
       "25%     0.000000  18.000000   5.000000   1.000000   2.250000        0.000000   \n",
       "50%     0.000000  20.000000  12.000000   2.000000   3.250000        0.000000   \n",
       "75%     1.000000  23.000000  20.000000   3.000000   3.750000        0.000000   \n",
       "max     1.000000  24.000000  32.000000   4.000000   3.750000        1.000000   \n",
       "\n",
       "         Anxiety  Panic_attack  Depression  \n",
       "count  81.000000     81.000000   81.000000  \n",
       "mean    0.296296      0.308642    0.271605  \n",
       "std     0.459468      0.464811    0.447559  \n",
       "min     0.000000      0.000000    0.000000  \n",
       "25%     0.000000      0.000000    0.000000  \n",
       "50%     0.000000      0.000000    0.000000  \n",
       "75%     1.000000      1.000000    1.000000  \n",
       "max     1.000000      1.000000    1.000000  "
      ]
     },
     "execution_count": 21,
     "metadata": {},
     "output_type": "execute_result"
    }
   ],
   "source": [
    "# Describe every column including those with non-numerical values as a summary\n",
    "dataset.describe(include=\"all\")"
   ]
  },
  {
   "cell_type": "code",
   "execution_count": 22,
   "id": "d5425a40",
   "metadata": {},
   "outputs": [
    {
     "name": "stdout",
     "output_type": "stream",
     "text": [
      "Unique Values in:  Gender\n",
      "[1 0]\n",
      "\n",
      "Unique Values in:  Age\n",
      "[21. 23. 19. 18. 20. 24. 22.]\n",
      "\n",
      "Unique Values in:  Course\n",
      "[19 17 26 12 28  2 15 18 29 11  1 25 20  3  7 32 31 22  0  5  4  8 23 24\n",
      " 21 16  6  9 27 30 14 10 13]\n",
      "\n",
      "Unique Values in:  Year\n",
      "[2 1 4 3]\n",
      "\n",
      "Unique Values in:  CGPA\n",
      "[0.99 3.75 3.25 2.75 2.25]\n",
      "\n",
      "Unique Values in:  Marital_status\n",
      "[0 1]\n",
      "\n",
      "Unique Values in:  Anxiety\n",
      "[1 0]\n",
      "\n",
      "Unique Values in:  Panic_attack\n",
      "[0 1]\n",
      "\n",
      "Unique Values in:  Depression\n",
      "[0 1]\n",
      "\n"
     ]
    }
   ],
   "source": [
    "# Print all unqiue values from each column\n",
    "for i in dataset.columns:\n",
    "    print(\"Unique Values in: \", i)\n",
    "    print(dataset[i].unique())\n",
    "    print()"
   ]
  },
  {
   "cell_type": "code",
   "execution_count": 23,
   "id": "98750119",
   "metadata": {},
   "outputs": [
    {
     "name": "stdout",
     "output_type": "stream",
     "text": [
      "Total Count in:  Age\n",
      "18.0    22\n",
      "24.0    18\n",
      "19.0    17\n",
      "23.0    10\n",
      "21.0     7\n",
      "20.0     5\n",
      "22.0     2\n",
      "Name: Age, dtype: int64\n",
      "\n",
      "Total Count in:  Year\n",
      "1    30\n",
      "2    24\n",
      "3    20\n",
      "4     7\n",
      "Name: Year, dtype: int64\n",
      "\n",
      "Total Count in:  CGPA\n",
      "3.75    31\n",
      "0.99    18\n",
      "3.25    18\n",
      "2.25     9\n",
      "2.75     5\n",
      "Name: CGPA, dtype: int64\n",
      "\n",
      "Total Count in:  Marital_status\n",
      "0    68\n",
      "1    13\n",
      "Name: Marital_status, dtype: int64\n",
      "\n",
      "Total Count in:  Anxiety\n",
      "0    57\n",
      "1    24\n",
      "Name: Anxiety, dtype: int64\n",
      "\n",
      "Total Count in:  Panic_attack\n",
      "0    56\n",
      "1    25\n",
      "Name: Panic_attack, dtype: int64\n",
      "\n",
      "Total Count in:  Depression\n",
      "0    59\n",
      "1    22\n",
      "Name: Depression, dtype: int64\n",
      "\n"
     ]
    }
   ],
   "source": [
    "# Print total count for all unique values in every column\n",
    "for i in dataset.columns:\n",
    "    if i != \"Gender\" and i != \"Course\":\n",
    "        print(\"Total Count in: \", i)\n",
    "        print(dataset[i].value_counts())\n",
    "        print()"
   ]
  },
  {
   "cell_type": "markdown",
   "id": "d015af4e",
   "metadata": {},
   "source": [
    "**Visualization**"
   ]
  },
  {
   "cell_type": "code",
   "execution_count": 24,
   "id": "1c89de37",
   "metadata": {},
   "outputs": [
    {
     "data": {
      "image/png": "[encoded data removed]",
      "text/plain": [
       "<Figure size 720x360 with 2 Axes>"
      ]
     },
     "metadata": {
      "needs_background": "light"
     },
     "output_type": "display_data"
    }
   ],
   "source": [
    "# Heatmap for correlation between columns of data\n",
    "plt.figure(figsize = (10,5))\n",
    "sns.heatmap(dataset.corr(),annot=True,cmap='coolwarm')\n",
    "plt.show()"
   ]
  },
  {
   "cell_type": "code",
   "execution_count": 25,
   "id": "ca696ee8",
   "metadata": {},
   "outputs": [
    {
     "data": {
      "text/plain": [
       "<AxesSubplot:>"
      ]
     },
     "execution_count": 25,
     "metadata": {},
     "output_type": "execute_result"
    },
    {
     "data": {
      "image/png": "[encoded data removed]",
      "text/plain": [
       "<Figure size 432x288 with 2 Axes>"
      ]
     },
     "metadata": {
      "needs_background": "light"
     },
     "output_type": "display_data"
    }
   ],
   "source": [
    "# Heatmap in Descending order between \"Depression\" column and others\n",
    "dfcorr = dataset.corr()\n",
    "sns.heatmap(dfcorr[['Depression']].sort_values(by=['Depression'], ascending=False), vmin=-1, cmap='Blues', annot = True, yticklabels=True)"
   ]
  },
  {
   "cell_type": "markdown",
   "id": "ff30df50",
   "metadata": {},
   "source": [
    "Based on below graph, Conclusion = Students with higher grades are more likely to be diagnosed with Depression"
   ]
  },
  {
   "cell_type": "code",
   "execution_count": 26,
   "id": "8e214de7",
   "metadata": {},
   "outputs": [
    {
     "data": {
      "text/plain": [
       "<AxesSubplot:xlabel='CGPA', ylabel='Depression'>"
      ]
     },
     "execution_count": 26,
     "metadata": {},
     "output_type": "execute_result"
    },
    {
     "data": {
      "image/png": "[encoded data removed]",
      "text/plain": [
       "<Figure size 432x288 with 1 Axes>"
      ]
     },
     "metadata": {
      "needs_background": "light"
     },
     "output_type": "display_data"
    }
   ],
   "source": [
    "# Boxplot with the X axis being CGPA data points, and Y axis indicating whether there is Depression or not\n",
    "sns.boxplot(x = \"CGPA\", y = \"Depression\", data = dataset)"
   ]
  },
  {
   "cell_type": "code",
   "execution_count": 27,
   "id": "d936aafe",
   "metadata": {
    "scrolled": true
   },
   "outputs": [
    {
     "data": {
      "text/plain": [
       "<AxesSubplot:xlabel='Depression', ylabel='Age'>"
      ]
     },
     "execution_count": 27,
     "metadata": {},
     "output_type": "execute_result"
    },
    {
     "data": {
      "image/png": "[encoded data removed]",
      "text/plain": [
       "<Figure size 432x288 with 1 Axes>"
      ]
     },
     "metadata": {
      "needs_background": "light"
     },
     "output_type": "display_data"
    }
   ],
   "source": [
    "# Boxplot with the x axis for \"Age\" and Y axis indicating depression state\n",
    "sns.boxplot(x = \"Depression\", y = \"Age\", data = dataset)"
   ]
  },
  {
   "cell_type": "code",
   "execution_count": 28,
   "id": "9da678ec",
   "metadata": {},
   "outputs": [
    {
     "data": {
      "image/png": "[encoded data removed]",
      "text/plain": [
       "<Figure size 432x288 with 1 Axes>"
      ]
     },
     "metadata": {},
     "output_type": "display_data"
    }
   ],
   "source": [
    "# Pie Chart for the frequency of each value (0,1) appearing in the dataset\n",
    "plot = dataset[\"Depression\"].value_counts().plot.pie(y='Depression', autopct='%1.0f%%')"
   ]
  },
  {
   "cell_type": "markdown",
   "id": "bc2d4a0d",
   "metadata": {},
   "source": [
    "# -- End of EDA --"
   ]
  },
  {
   "cell_type": "markdown",
   "id": "e72752a0",
   "metadata": {},
   "source": [
    "# -- Start of Data Modelling --"
   ]
  },
  {
   "cell_type": "code",
   "execution_count": 29,
   "id": "f0642de8",
   "metadata": {},
   "outputs": [
    {
     "data": {
      "text/html": [
       "<div>\n",
       "<style scoped>\n",
       "    .dataframe tbody tr th:only-of-type {\n",
       "        vertical-align: middle;\n",
       "    }\n",
       "\n",
       "    .dataframe tbody tr th {\n",
       "        vertical-align: top;\n",
       "    }\n",
       "\n",
       "    .dataframe thead th {\n",
       "        text-align: right;\n",
       "    }\n",
       "</style>\n",
       "<table border=\"1\" class=\"dataframe\">\n",
       "  <thead>\n",
       "    <tr style=\"text-align: right;\">\n",
       "      <th></th>\n",
       "      <th>Gender</th>\n",
       "      <th>Age</th>\n",
       "      <th>Course</th>\n",
       "      <th>Year</th>\n",
       "      <th>CGPA</th>\n",
       "      <th>Marital_status</th>\n",
       "      <th>Anxiety</th>\n",
       "      <th>Panic_attack</th>\n",
       "      <th>Depression</th>\n",
       "    </tr>\n",
       "  </thead>\n",
       "  <tbody>\n",
       "    <tr>\n",
       "      <th>0</th>\n",
       "      <td>1</td>\n",
       "      <td>21.0</td>\n",
       "      <td>19</td>\n",
       "      <td>2</td>\n",
       "      <td>0.99</td>\n",
       "      <td>0</td>\n",
       "      <td>1</td>\n",
       "      <td>0</td>\n",
       "      <td>0</td>\n",
       "    </tr>\n",
       "    <tr>\n",
       "      <th>1</th>\n",
       "      <td>1</td>\n",
       "      <td>21.0</td>\n",
       "      <td>17</td>\n",
       "      <td>1</td>\n",
       "      <td>3.75</td>\n",
       "      <td>0</td>\n",
       "      <td>1</td>\n",
       "      <td>1</td>\n",
       "      <td>1</td>\n",
       "    </tr>\n",
       "    <tr>\n",
       "      <th>2</th>\n",
       "      <td>1</td>\n",
       "      <td>23.0</td>\n",
       "      <td>26</td>\n",
       "      <td>4</td>\n",
       "      <td>3.25</td>\n",
       "      <td>0</td>\n",
       "      <td>0</td>\n",
       "      <td>0</td>\n",
       "      <td>0</td>\n",
       "    </tr>\n",
       "    <tr>\n",
       "      <th>3</th>\n",
       "      <td>1</td>\n",
       "      <td>19.0</td>\n",
       "      <td>12</td>\n",
       "      <td>2</td>\n",
       "      <td>0.99</td>\n",
       "      <td>0</td>\n",
       "      <td>0</td>\n",
       "      <td>1</td>\n",
       "      <td>0</td>\n",
       "    </tr>\n",
       "    <tr>\n",
       "      <th>4</th>\n",
       "      <td>0</td>\n",
       "      <td>23.0</td>\n",
       "      <td>28</td>\n",
       "      <td>2</td>\n",
       "      <td>3.75</td>\n",
       "      <td>1</td>\n",
       "      <td>0</td>\n",
       "      <td>1</td>\n",
       "      <td>1</td>\n",
       "    </tr>\n",
       "  </tbody>\n",
       "</table>\n",
       "</div>"
      ],
      "text/plain": [
       "   Gender   Age  Course  Year  CGPA  Marital_status  Anxiety  Panic_attack  \\\n",
       "0       1  21.0      19     2  0.99               0        1             0   \n",
       "1       1  21.0      17     1  3.75               0        1             1   \n",
       "2       1  23.0      26     4  3.25               0        0             0   \n",
       "3       1  19.0      12     2  0.99               0        0             1   \n",
       "4       0  23.0      28     2  3.75               1        0             1   \n",
       "\n",
       "   Depression  \n",
       "0           0  \n",
       "1           1  \n",
       "2           0  \n",
       "3           0  \n",
       "4           1  "
      ]
     },
     "execution_count": 29,
     "metadata": {},
     "output_type": "execute_result"
    }
   ],
   "source": [
    "dataset.head()"
   ]
  },
  {
   "cell_type": "code",
   "execution_count": 30,
   "id": "bf672ca8",
   "metadata": {},
   "outputs": [],
   "source": [
    "#split into X & y (predictors & target variable)\n",
    "X = dataset.drop(['Depression'], axis=1).values  #Features\n",
    "y = dataset['Depression'].values #target variable"
   ]
  },
  {
   "cell_type": "code",
   "execution_count": 31,
   "id": "54b59d0e",
   "metadata": {},
   "outputs": [
    {
     "name": "stdout",
     "output_type": "stream",
     "text": [
      "Original dataset shape Counter({0: 59, 1: 22})\n",
      "Resampled dataset shape Counter({0: 59, 1: 59})\n"
     ]
    }
   ],
   "source": [
    "from imblearn.over_sampling import SMOTE       # over-sampling our minority target variable\n",
    "from collections import Counter\n",
    "\n",
    "print('Original dataset shape %s' % Counter(y))\n",
    "\n",
    "sm = SMOTE(random_state=42)\n",
    "X, y = sm.fit_resample(X, y)\n",
    "print('Resampled dataset shape %s' % Counter(y))"
   ]
  },
  {
   "cell_type": "code",
   "execution_count": 32,
   "id": "e25fc074",
   "metadata": {},
   "outputs": [],
   "source": [
    "#create train & test split\n",
    "from sklearn.model_selection import train_test_split \n",
    "X_train, X_test, y_train, y_test = train_test_split(X, y, test_size=0.25, \n",
    "                                                    random_state=0,shuffle=True)"
   ]
  },
  {
   "cell_type": "code",
   "execution_count": 33,
   "id": "e4585cf4",
   "metadata": {},
   "outputs": [],
   "source": [
    "from sklearn import preprocessing\n",
    "min_max_scaler = preprocessing.MinMaxScaler()\n",
    "X_train_scale = min_max_scaler.fit_transform(X_train)\n",
    "X_test_scale = min_max_scaler.fit_transform(X_test)"
   ]
  },
  {
   "cell_type": "code",
   "execution_count": 34,
   "id": "2cd1b67f",
   "metadata": {},
   "outputs": [],
   "source": [
    "# only needed if not installed before\n",
    "#pip install -U imbalanced-learn"
   ]
  },
  {
   "cell_type": "markdown",
   "id": "4b85bc80",
   "metadata": {},
   "source": [
    "Defining and Compiling the Keras Model"
   ]
  },
  {
   "cell_type": "code",
   "execution_count": 35,
   "id": "8ae86281",
   "metadata": {},
   "outputs": [],
   "source": [
    "import tensorflow as tf\n",
    "from tensorflow import keras\n",
    "model = tf.keras.models.Sequential([\n",
    "    tf.keras.layers.Flatten(input_shape=(8,)),\n",
    "    tf.keras.layers.Dense(128, activation = 'relu'),\n",
    "    tf.keras.layers.Dropout(0.2),\n",
    "    tf.keras.layers.Dense(10, activation = 'softmax'),\n",
    "    tf.keras.layers.Dense(1, activation='sigmoid'),\n",
    "])"
   ]
  },
  {
   "cell_type": "markdown",
   "id": "259f32ae",
   "metadata": {},
   "source": [
    "Compiling the model with appropriate parametes"
   ]
  },
  {
   "cell_type": "code",
   "execution_count": 36,
   "id": "c0275bf0",
   "metadata": {},
   "outputs": [],
   "source": [
    "model.compile(loss=\"binary_crossentropy\", optimizer=\"adam\", metrics=[\"accuracy\"])"
   ]
  },
  {
   "cell_type": "markdown",
   "id": "c477e86c",
   "metadata": {},
   "source": [
    "Fitting the model"
   ]
  },
  {
   "cell_type": "code",
   "execution_count": 37,
   "id": "446e4298",
   "metadata": {},
   "outputs": [
    {
     "name": "stdout",
     "output_type": "stream",
     "text": [
      "Epoch 1/50\n",
      "3/3 [==============================] - 1s 6ms/step - loss: 0.6887 - accuracy: 0.6364\n",
      "Epoch 2/50\n",
      "3/3 [==============================] - 0s 4ms/step - loss: 0.6839 - accuracy: 0.7727\n",
      "Epoch 3/50\n",
      "3/3 [==============================] - 0s 4ms/step - loss: 0.6806 - accuracy: 0.7614\n",
      "Epoch 4/50\n",
      "3/3 [==============================] - 0s 4ms/step - loss: 0.6732 - accuracy: 0.7955\n",
      "Epoch 5/50\n",
      "3/3 [==============================] - 0s 4ms/step - loss: 0.6695 - accuracy: 0.8182\n",
      "Epoch 6/50\n",
      "3/3 [==============================] - 0s 3ms/step - loss: 0.6648 - accuracy: 0.8409\n",
      "Epoch 7/50\n",
      "3/3 [==============================] - 0s 4ms/step - loss: 0.6599 - accuracy: 0.7727\n",
      "Epoch 8/50\n",
      "3/3 [==============================] - 0s 3ms/step - loss: 0.6554 - accuracy: 0.7955\n",
      "Epoch 9/50\n",
      "3/3 [==============================] - 0s 3ms/step - loss: 0.6492 - accuracy: 0.7955\n",
      "Epoch 10/50\n",
      "3/3 [==============================] - 0s 4ms/step - loss: 0.6480 - accuracy: 0.8068\n",
      "Epoch 11/50\n",
      "3/3 [==============================] - 0s 4ms/step - loss: 0.6441 - accuracy: 0.7727\n",
      "Epoch 12/50\n",
      "3/3 [==============================] - 0s 4ms/step - loss: 0.6351 - accuracy: 0.8182\n",
      "Epoch 13/50\n",
      "3/3 [==============================] - 0s 3ms/step - loss: 0.6296 - accuracy: 0.7841\n",
      "Epoch 14/50\n",
      "3/3 [==============================] - 0s 3ms/step - loss: 0.6254 - accuracy: 0.8409\n",
      "Epoch 15/50\n",
      "3/3 [==============================] - 0s 3ms/step - loss: 0.6202 - accuracy: 0.8295\n",
      "Epoch 16/50\n",
      "3/3 [==============================] - 0s 3ms/step - loss: 0.6165 - accuracy: 0.8409\n",
      "Epoch 17/50\n",
      "3/3 [==============================] - 0s 4ms/step - loss: 0.6063 - accuracy: 0.8523\n",
      "Epoch 18/50\n",
      "3/3 [==============================] - 0s 3ms/step - loss: 0.6007 - accuracy: 0.8864\n",
      "Epoch 19/50\n",
      "3/3 [==============================] - 0s 3ms/step - loss: 0.5964 - accuracy: 0.8750\n",
      "Epoch 20/50\n",
      "3/3 [==============================] - 0s 4ms/step - loss: 0.5876 - accuracy: 0.8864\n",
      "Epoch 21/50\n",
      "3/3 [==============================] - 0s 4ms/step - loss: 0.5807 - accuracy: 0.8977\n",
      "Epoch 22/50\n",
      "3/3 [==============================] - 0s 4ms/step - loss: 0.5740 - accuracy: 0.8750\n",
      "Epoch 23/50\n",
      "3/3 [==============================] - 0s 5ms/step - loss: 0.5680 - accuracy: 0.8977\n",
      "Epoch 24/50\n",
      "3/3 [==============================] - 0s 4ms/step - loss: 0.5637 - accuracy: 0.8977\n",
      "Epoch 25/50\n",
      "3/3 [==============================] - 0s 5ms/step - loss: 0.5594 - accuracy: 0.8977\n",
      "Epoch 26/50\n",
      "3/3 [==============================] - 0s 3ms/step - loss: 0.5512 - accuracy: 0.8977\n",
      "Epoch 27/50\n",
      "3/3 [==============================] - 0s 4ms/step - loss: 0.5437 - accuracy: 0.8977\n",
      "Epoch 28/50\n",
      "3/3 [==============================] - 0s 4ms/step - loss: 0.5381 - accuracy: 0.9091\n",
      "Epoch 29/50\n",
      "3/3 [==============================] - 0s 3ms/step - loss: 0.5351 - accuracy: 0.9091\n",
      "Epoch 30/50\n",
      "3/3 [==============================] - 0s 4ms/step - loss: 0.5290 - accuracy: 0.9091\n",
      "Epoch 31/50\n",
      "3/3 [==============================] - 0s 4ms/step - loss: 0.5185 - accuracy: 0.9091\n",
      "Epoch 32/50\n",
      "3/3 [==============================] - 0s 4ms/step - loss: 0.5180 - accuracy: 0.8864\n",
      "Epoch 33/50\n",
      "3/3 [==============================] - 0s 4ms/step - loss: 0.5097 - accuracy: 0.9091\n",
      "Epoch 34/50\n",
      "3/3 [==============================] - 0s 4ms/step - loss: 0.5051 - accuracy: 0.9091\n",
      "Epoch 35/50\n",
      "3/3 [==============================] - 0s 5ms/step - loss: 0.5054 - accuracy: 0.9091\n",
      "Epoch 36/50\n",
      "3/3 [==============================] - 0s 4ms/step - loss: 0.4982 - accuracy: 0.9091\n",
      "Epoch 37/50\n",
      "3/3 [==============================] - 0s 3ms/step - loss: 0.4927 - accuracy: 0.8864\n",
      "Epoch 38/50\n",
      "3/3 [==============================] - 0s 3ms/step - loss: 0.4870 - accuracy: 0.9091\n",
      "Epoch 39/50\n",
      "3/3 [==============================] - 0s 4ms/step - loss: 0.4859 - accuracy: 0.9205\n",
      "Epoch 40/50\n",
      "3/3 [==============================] - 0s 4ms/step - loss: 0.4776 - accuracy: 0.9091\n",
      "Epoch 41/50\n",
      "3/3 [==============================] - 0s 4ms/step - loss: 0.4733 - accuracy: 0.9318\n",
      "Epoch 42/50\n",
      "3/3 [==============================] - 0s 4ms/step - loss: 0.4680 - accuracy: 0.9205\n",
      "Epoch 43/50\n",
      "3/3 [==============================] - 0s 4ms/step - loss: 0.4663 - accuracy: 0.8977\n",
      "Epoch 44/50\n",
      "3/3 [==============================] - 0s 4ms/step - loss: 0.4631 - accuracy: 0.9205\n",
      "Epoch 45/50\n",
      "3/3 [==============================] - 0s 4ms/step - loss: 0.4633 - accuracy: 0.9205\n",
      "Epoch 46/50\n",
      "3/3 [==============================] - 0s 4ms/step - loss: 0.4585 - accuracy: 0.9205\n",
      "Epoch 47/50\n",
      "3/3 [==============================] - 0s 3ms/step - loss: 0.4556 - accuracy: 0.9205\n",
      "Epoch 48/50\n",
      "3/3 [==============================] - 0s 3ms/step - loss: 0.4528 - accuracy: 0.9205\n",
      "Epoch 49/50\n",
      "3/3 [==============================] - 0s 4ms/step - loss: 0.4501 - accuracy: 0.9205\n",
      "Epoch 50/50\n",
      "3/3 [==============================] - 0s 4ms/step - loss: 0.4452 - accuracy: 0.9432\n"
     ]
    },
    {
     "data": {
      "text/plain": [
       "<keras.callbacks.History at 0x213a95e1c40>"
      ]
     },
     "execution_count": 37,
     "metadata": {},
     "output_type": "execute_result"
    }
   ],
   "source": [
    "model.fit(X_train_scale,y_train, epochs = 50)"
   ]
  },
  {
   "cell_type": "markdown",
   "id": "5ad057a9",
   "metadata": {},
   "source": [
    "Evaluating the model accuracy"
   ]
  },
  {
   "cell_type": "code",
   "execution_count": 38,
   "id": "b3fb9cb0",
   "metadata": {},
   "outputs": [
    {
     "name": "stdout",
     "output_type": "stream",
     "text": [
      "3/3 [==============================] - 0s 3ms/step - loss: 0.4440 - accuracy: 0.9432\n",
      "Accuracy for Training:  0.9431818127632141\n"
     ]
    }
   ],
   "source": [
    "_, accuracy = model.evaluate(X_train_scale, y_train)\n",
    "print(\"Accuracy for Training: \", accuracy)\n"
   ]
  },
  {
   "cell_type": "code",
   "execution_count": 39,
   "id": "b1ac9d42",
   "metadata": {},
   "outputs": [
    {
     "name": "stdout",
     "output_type": "stream",
     "text": [
      "[0.0, 0.0, 0.5483870967741935, 0.6666666666666667, 0.818840579710145, 0.0, 0.0, 1.0] predicts [0.46680108]  ACTUAL :  0\n",
      "[0.0, 0.16666666666666652, 0.6451612903225806, 0.3333333333333333, 1.0000000000000002, 1.0, 0.0, 0.0] predicts [0.63578975]  ACTUAL :  1\n",
      "[1.0, 0.16666666666666652, 0.7419354838709677, 0.6666666666666667, 1.0000000000000002, 1.0, 0.0, 1.0] predicts [0.6668483]  ACTUAL :  1\n",
      "[1.0, 1.0, 0.5483870967741935, 0.6666666666666667, 0.0, 0.0, 1.0, 0.0] predicts [0.2953579]  ACTUAL :  0\n",
      "[1.0, 0.16666666666666652, 0.3870967741935484, 0.3333333333333333, 0.0, 0.0, 0.0, 1.0] predicts [0.34249923]  ACTUAL :  0\n"
     ]
    }
   ],
   "source": [
    "train_predictions = model.predict_on_batch(X_train_scale)\n",
    "\n",
    "for i in range(5):\n",
    "    print(X_train_scale[i].tolist(), \"predicts\", train_predictions[i], \" ACTUAL : \", y_train[i])"
   ]
  },
  {
   "cell_type": "markdown",
   "id": "b5955f34",
   "metadata": {},
   "source": [
    "Testing against historical data"
   ]
  },
  {
   "cell_type": "code",
   "execution_count": 40,
   "id": "6c38aba4",
   "metadata": {},
   "outputs": [
    {
     "name": "stdout",
     "output_type": "stream",
     "text": [
      "1/1 [==============================] - 0s 24ms/step - loss: 0.4767 - accuracy: 0.8667\n",
      "Accuracy for Testing:  0.8666666746139526\n"
     ]
    }
   ],
   "source": [
    "_, accuracy = model.evaluate(X_test_scale, y_test)\n",
    "print(\"Accuracy for Testing: \", accuracy)"
   ]
  },
  {
   "cell_type": "code",
   "execution_count": 41,
   "id": "9703179a",
   "metadata": {},
   "outputs": [
    {
     "name": "stdout",
     "output_type": "stream",
     "text": [
      "[0.0, 0.2024706731011645, 0.014321602573799094, 0.14321602573799092, 1.0000000000000002, 0.0, 0.2148240386069864, 0.7851759613930136] predicts [0.572302]  ACTUAL :  1\n",
      "[0.0, 0.09065500263049397, 0.7877263349116298, 0.36262001052197607, 1.0000000000000002, 0.5439300157829641, 0.0, 0.5439300157829641] predicts [0.6173418]  ACTUAL :  1\n",
      "[0.0, 1.0, 0.3282218870586667, 0.6496285124177776, 1.0000000000000002, 1.0, 0.051114462746666756, 1.0] predicts [0.6523566]  ACTUAL :  1\n",
      "[0.0, 0.33333333333333304, 0.9, 0.0, 0.63768115942029, 0.0, 0.0, 0.0] predicts [0.3169891]  ACTUAL :  0\n",
      "[0.40758543113795753, 0.09873576147700724, 0.4320690948103404, 0.13586181037931916, 1.0000000000000002, 0.0, 1.0, 0.5924145688620425] predicts [0.6647577]  ACTUAL :  1\n"
     ]
    }
   ],
   "source": [
    "test_predictions = model.predict_on_batch(X_test_scale)\n",
    "\n",
    "for i in range(5):\n",
    "    print(X_test_scale[i].tolist(), \"predicts\", test_predictions[i], \" ACTUAL : \", y_test[i])"
   ]
  },
  {
   "cell_type": "markdown",
   "id": "198fa532",
   "metadata": {},
   "source": [
    "# -- End of Data Modelling --"
   ]
  }
 ],
 "metadata": {
  "kernelspec": {
   "display_name": "Python 3 (ipykernel)",
   "language": "python",
   "name": "python3"
  },
  "language_info": {
   "codemirror_mode": {
    "name": "ipython",
    "version": 3
   },
   "file_extension": ".py",
   "mimetype": "text/x-python",
   "name": "python",
   "nbconvert_exporter": "python",
   "pygments_lexer": "ipython3",
   "version": "3.9.13"
  }
 },
 "nbformat": 4,
 "nbformat_minor": 5
}
